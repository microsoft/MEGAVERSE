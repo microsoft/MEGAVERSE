{
 "cells": [
  {
   "cell_type": "code",
   "execution_count": 84,
   "metadata": {},
   "outputs": [
    {
     "data": {
      "text/plain": [
       "'/home/t-iswatts/Desktop/MultilingualBlanketEval'"
      ]
     },
     "execution_count": 84,
     "metadata": {},
     "output_type": "execute_result"
    }
   ],
   "source": [
    "import os\n",
    "import json\n",
    "import pandas as pd\n",
    "os.chdir(\"/home/t-iswatts/Desktop/MultilingualBlanketEval\")\n",
    "os.getcwd()"
   ]
  },
  {
   "cell_type": "code",
   "execution_count": 85,
   "metadata": {},
   "outputs": [
    {
     "name": "stdout",
     "output_type": "stream",
     "text": [
      "{'gemma-2b-it', 'gemma-7b-it', 'gemini-pro'}\n",
      "[Errno 2] No such file or directory: 'results/panx/gemma-2b-it'\n",
      "[Errno 2] No such file or directory: 'results/gluecos_sentiment/gemma-2b-it'\n",
      "[Errno 2] No such file or directory: 'results/gluecos_nli/gemma-2b-it'\n",
      "[Errno 2] No such file or directory: 'results/pawsx/gemma-2b-it/ko/PivotLang_ko_PromptName_PAWS-ANLI GPT3_FewShotK_8/results.json'\n",
      "[Errno 2] No such file or directory: 'results/panx/gemma-7b-it'\n",
      "[Errno 2] No such file or directory: 'results/gluecos_sentiment/gemma-7b-it'\n",
      "[Errno 2] No such file or directory: 'results/gluecos_nli/gemma-7b-it'\n",
      "[Errno 2] No such file or directory: 'results/xcopa/gemma-7b-it/en/PivotLang_en_PromptName_plausible_alternatives_discrete_FewShotK_8/results.json'\n",
      "[Errno 2] No such file or directory: 'results/xstory_cloze/gemma-7b-it/ar/PivotLang_ar_PromptName_Answer Given options_Verbalizer_identity_FewShotK_8wthInstruction/results.json'\n",
      "[Errno 2] No such file or directory: 'results/afriqa/gemma-7b-it/fon/PivotLang_fon_PromptName_answer_given_context_and_question_Verbalizer_identity_FewShotK_8/results.json'\n",
      "[Errno 2] No such file or directory: 'results/indicqa/gemini-pro'\n",
      "[Errno 2] No such file or directory: 'results/xstory_cloze/gemini-pro'\n",
      "[Errno 2] No such file or directory: 'results/afriqa/gemini-pro'\n"
     ]
    }
   ],
   "source": [
    "final_output = []\n",
    "\n",
    "datasets = os.listdir(\"results\")\n",
    "ignore = [\"IN22-Gen\", \"XLSum\", \"xrisawoz\"]\n",
    "models = set()\n",
    "for dataset in datasets:\n",
    "    if dataset in ignore:\n",
    "            continue\n",
    "    for model in os.listdir(os.path.join(\"results/\", dataset)):\n",
    "        models.add(model)\n",
    "\n",
    "print(models)\n",
    "\n",
    "for model in models:\n",
    "    dataset_name = []\n",
    "    languages = []\n",
    "    results = []\n",
    "    metrics = []\n",
    "    strategies = []\n",
    "    for dataset in datasets:\n",
    "        if dataset in ignore:\n",
    "            continue\n",
    "        \n",
    "        try:\n",
    "            for language in os.listdir(os.path.join(\"results/\", dataset, model)):\n",
    "                for strategy in os.listdir(os.path.join(\"results/\", dataset, model, language)):\n",
    "                    with open(os.path.join(\"results/\", dataset, model, language, strategy, \"results.json\"), \"r\") as f:\n",
    "                        result = json.load(f)\n",
    "                    \n",
    "                    for key in list(result[\"metrics\"].keys())[:2]:\n",
    "                        dataset_name.append(dataset)\n",
    "                        languages.append(language)\n",
    "                        metrics.append(key)\n",
    "                        results.append(result[\"metrics\"][key])\n",
    "                        strategies.append(strategy)\n",
    "                        \n",
    "                    \n",
    "        except Exception as e:\n",
    "            print(e)\n",
    "            # print(f\"Model: {model} not Evaluated on Dataset: {dataset}\")\n",
    "            pass\n",
    "        \n",
    "    final_output.append(pd.DataFrame({\"Dataset\": dataset_name, \"Language\": languages, \"Metric\": metrics, model: results, \"Strategy\": strategies}))\n",
    "        # except:\n",
    "        #     print(f\"Model: {model} not Evaluated on Dataset: {dataset}\")"
   ]
  },
  {
   "cell_type": "code",
   "execution_count": 86,
   "metadata": {},
   "outputs": [
    {
     "data": {
      "text/plain": [
       "3"
      ]
     },
     "execution_count": 86,
     "metadata": {},
     "output_type": "execute_result"
    }
   ],
   "source": [
    "len(final_output)"
   ]
  },
  {
   "cell_type": "code",
   "execution_count": 87,
   "metadata": {},
   "outputs": [
    {
     "data": {
      "text/html": [
       "<div>\n",
       "<style scoped>\n",
       "    .dataframe tbody tr th:only-of-type {\n",
       "        vertical-align: middle;\n",
       "    }\n",
       "\n",
       "    .dataframe tbody tr th {\n",
       "        vertical-align: top;\n",
       "    }\n",
       "\n",
       "    .dataframe thead th {\n",
       "        text-align: right;\n",
       "    }\n",
       "</style>\n",
       "<table border=\"1\" class=\"dataframe\">\n",
       "  <thead>\n",
       "    <tr style=\"text-align: right;\">\n",
       "      <th></th>\n",
       "      <th>Dataset</th>\n",
       "      <th>Language</th>\n",
       "      <th>Metric</th>\n",
       "      <th>gemma-2b-it</th>\n",
       "      <th>Strategy</th>\n",
       "    </tr>\n",
       "  </thead>\n",
       "  <tbody>\n",
       "    <tr>\n",
       "      <th>0</th>\n",
       "      <td>xquad</td>\n",
       "      <td>es</td>\n",
       "      <td>exact_match</td>\n",
       "      <td>3.361345</td>\n",
       "      <td>PivotLang_en_PromptName_answer_given_context_a...</td>\n",
       "    </tr>\n",
       "    <tr>\n",
       "      <th>1</th>\n",
       "      <td>xquad</td>\n",
       "      <td>es</td>\n",
       "      <td>f1</td>\n",
       "      <td>19.659572</td>\n",
       "      <td>PivotLang_en_PromptName_answer_given_context_a...</td>\n",
       "    </tr>\n",
       "    <tr>\n",
       "      <th>2</th>\n",
       "      <td>xquad</td>\n",
       "      <td>zh</td>\n",
       "      <td>exact_match</td>\n",
       "      <td>4.453782</td>\n",
       "      <td>PivotLang_en_PromptName_answer_given_context_a...</td>\n",
       "    </tr>\n",
       "    <tr>\n",
       "      <th>3</th>\n",
       "      <td>xquad</td>\n",
       "      <td>zh</td>\n",
       "      <td>f1</td>\n",
       "      <td>12.519405</td>\n",
       "      <td>PivotLang_en_PromptName_answer_given_context_a...</td>\n",
       "    </tr>\n",
       "    <tr>\n",
       "      <th>4</th>\n",
       "      <td>xquad</td>\n",
       "      <td>el</td>\n",
       "      <td>exact_match</td>\n",
       "      <td>6.974790</td>\n",
       "      <td>PivotLang_en_PromptName_answer_given_context_a...</td>\n",
       "    </tr>\n",
       "    <tr>\n",
       "      <th>...</th>\n",
       "      <td>...</td>\n",
       "      <td>...</td>\n",
       "      <td>...</td>\n",
       "      <td>...</td>\n",
       "      <td>...</td>\n",
       "    </tr>\n",
       "    <tr>\n",
       "      <th>178</th>\n",
       "      <td>tydiqa</td>\n",
       "      <td>en</td>\n",
       "      <td>f1</td>\n",
       "      <td>51.855510</td>\n",
       "      <td>PivotLang_en_PromptName_answer_given_context_a...</td>\n",
       "    </tr>\n",
       "    <tr>\n",
       "      <th>179</th>\n",
       "      <td>tydiqa</td>\n",
       "      <td>bn</td>\n",
       "      <td>exact_match</td>\n",
       "      <td>4.424779</td>\n",
       "      <td>PivotLang_bn_PromptName_answer_given_context_a...</td>\n",
       "    </tr>\n",
       "    <tr>\n",
       "      <th>180</th>\n",
       "      <td>tydiqa</td>\n",
       "      <td>bn</td>\n",
       "      <td>f1</td>\n",
       "      <td>20.504604</td>\n",
       "      <td>PivotLang_bn_PromptName_answer_given_context_a...</td>\n",
       "    </tr>\n",
       "    <tr>\n",
       "      <th>181</th>\n",
       "      <td>tydiqa</td>\n",
       "      <td>sw</td>\n",
       "      <td>exact_match</td>\n",
       "      <td>44.689379</td>\n",
       "      <td>PivotLang_sw_PromptName_answer_given_context_a...</td>\n",
       "    </tr>\n",
       "    <tr>\n",
       "      <th>182</th>\n",
       "      <td>tydiqa</td>\n",
       "      <td>sw</td>\n",
       "      <td>f1</td>\n",
       "      <td>57.413568</td>\n",
       "      <td>PivotLang_sw_PromptName_answer_given_context_a...</td>\n",
       "    </tr>\n",
       "  </tbody>\n",
       "</table>\n",
       "<p>183 rows × 5 columns</p>\n",
       "</div>"
      ],
      "text/plain": [
       "    Dataset Language       Metric  gemma-2b-it  \\\n",
       "0     xquad       es  exact_match     3.361345   \n",
       "1     xquad       es           f1    19.659572   \n",
       "2     xquad       zh  exact_match     4.453782   \n",
       "3     xquad       zh           f1    12.519405   \n",
       "4     xquad       el  exact_match     6.974790   \n",
       "..      ...      ...          ...          ...   \n",
       "178  tydiqa       en           f1    51.855510   \n",
       "179  tydiqa       bn  exact_match     4.424779   \n",
       "180  tydiqa       bn           f1    20.504604   \n",
       "181  tydiqa       sw  exact_match    44.689379   \n",
       "182  tydiqa       sw           f1    57.413568   \n",
       "\n",
       "                                              Strategy  \n",
       "0    PivotLang_en_PromptName_answer_given_context_a...  \n",
       "1    PivotLang_en_PromptName_answer_given_context_a...  \n",
       "2    PivotLang_en_PromptName_answer_given_context_a...  \n",
       "3    PivotLang_en_PromptName_answer_given_context_a...  \n",
       "4    PivotLang_en_PromptName_answer_given_context_a...  \n",
       "..                                                 ...  \n",
       "178  PivotLang_en_PromptName_answer_given_context_a...  \n",
       "179  PivotLang_bn_PromptName_answer_given_context_a...  \n",
       "180  PivotLang_bn_PromptName_answer_given_context_a...  \n",
       "181  PivotLang_sw_PromptName_answer_given_context_a...  \n",
       "182  PivotLang_sw_PromptName_answer_given_context_a...  \n",
       "\n",
       "[183 rows x 5 columns]"
      ]
     },
     "execution_count": 87,
     "metadata": {},
     "output_type": "execute_result"
    }
   ],
   "source": [
    "final_output[0]"
   ]
  },
  {
   "cell_type": "code",
   "execution_count": 81,
   "metadata": {},
   "outputs": [],
   "source": [
    "final_dataframe = final_output[0]\n",
    "for i in range(1, len(final_output)):\n",
    "    final_dataframe = final_dataframe.merge(final_output[i], on=[\"Dataset\", \"Language\", \"Metric\", \"Strategy\"], how=\"outer\")"
   ]
  },
  {
   "cell_type": "code",
   "execution_count": 82,
   "metadata": {},
   "outputs": [],
   "source": [
    "final_dataframe.to_csv(\"results.csv\", index=False)"
   ]
  },
  {
   "cell_type": "code",
   "execution_count": 83,
   "metadata": {},
   "outputs": [],
   "source": [
    "final_dataframe.to_excel(\"results.xlsx\", index=False)"
   ]
  },
  {
   "cell_type": "code",
   "execution_count": null,
   "metadata": {},
   "outputs": [],
   "source": []
  }
 ],
 "metadata": {
  "kernelspec": {
   "display_name": "megaverse",
   "language": "python",
   "name": "python3"
  },
  "language_info": {
   "codemirror_mode": {
    "name": "ipython",
    "version": 3
   },
   "file_extension": ".py",
   "mimetype": "text/x-python",
   "name": "python",
   "nbconvert_exporter": "python",
   "pygments_lexer": "ipython3",
   "version": "3.9.18"
  }
 },
 "nbformat": 4,
 "nbformat_minor": 2
}
