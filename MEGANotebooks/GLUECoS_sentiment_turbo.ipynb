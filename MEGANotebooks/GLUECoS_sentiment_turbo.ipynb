{
 "cells": [
  {
   "cell_type": "code",
   "execution_count": 1,
   "id": "160ff6df",
   "metadata": {},
   "outputs": [],
   "source": [
    "import os\n",
    "os.chdir(\"../\")"
   ]
  },
  {
   "cell_type": "code",
   "execution_count": 3,
   "id": "02807a9b",
   "metadata": {},
   "outputs": [],
   "source": [
    "# imports\n",
    "import warnings\n",
    "warnings.filterwarnings(\"ignore\")\n",
    "\n",
    "import time\n",
    "import openai\n",
    "import json\n",
    "from typing import Union\n",
    "import numpy as np\n",
    "import pandas as pd\n",
    "from datasets import Dataset, DatasetDict\n",
    "from mega.data.data_utils import choose_few_shot_examples\n",
    "from mega.prompting.instructions import INSTRUCTIONS\n",
    "from mega.prompting.prompting_utils import load_prompt_template\n",
    "# from mega.utils.env_utils import load_env\n",
    "from mega.models.completion_models import get_model_pred, gpt3x_completion, gemini_completion\n",
    "from mega.prompting.prompting_utils import construct_prompt, construct_cmsentiment_prompt\n",
    "from tqdm import tqdm"
   ]
  },
  {
   "cell_type": "code",
   "execution_count": 5,
   "id": "5fdecbd4",
   "metadata": {},
   "outputs": [],
   "source": [
    "# # Make sure that {env_name}.env file is present in the envs/ directory\n",
    "# env_name = \"melange\"\n",
    "# load_env(env_name=env_name)"
   ]
  },
  {
   "cell_type": "code",
   "execution_count": 6,
   "id": "53f254c9",
   "metadata": {},
   "outputs": [],
   "source": [
    "# openai.api_base"
   ]
  },
  {
   "attachments": {},
   "cell_type": "markdown",
   "id": "28adbc17",
   "metadata": {},
   "source": [
    "Get data"
   ]
  },
  {
   "cell_type": "code",
   "execution_count": 7,
   "id": "225a3250",
   "metadata": {},
   "outputs": [
    {
     "ename": "FileNotFoundError",
     "evalue": "[Errno 2] No such file or directory: 'gluecosdata/sentiment/train.txt'",
     "output_type": "error",
     "traceback": [
      "\u001b[0;31m---------------------------------------------------------------------------\u001b[0m",
      "\u001b[0;31mFileNotFoundError\u001b[0m                         Traceback (most recent call last)",
      "Cell \u001b[0;32mIn[7], line 2\u001b[0m\n\u001b[1;32m      1\u001b[0m \u001b[38;5;66;03m# Read train.txt and test.txt files\u001b[39;00m\n\u001b[0;32m----> 2\u001b[0m \u001b[38;5;28;01mwith\u001b[39;00m \u001b[38;5;28;43mopen\u001b[39;49m\u001b[43m(\u001b[49m\u001b[38;5;124;43m'\u001b[39;49m\u001b[38;5;124;43mgluecosdata/sentiment/train.txt\u001b[39;49m\u001b[38;5;124;43m'\u001b[39;49m\u001b[43m,\u001b[49m\u001b[43m \u001b[49m\u001b[38;5;124;43m'\u001b[39;49m\u001b[38;5;124;43mr\u001b[39;49m\u001b[38;5;124;43m'\u001b[39;49m\u001b[43m)\u001b[49m \u001b[38;5;28;01mas\u001b[39;00m f:\n\u001b[1;32m      3\u001b[0m     train_lines \u001b[38;5;241m=\u001b[39m f\u001b[38;5;241m.\u001b[39mreadlines()\n\u001b[1;32m      4\u001b[0m \u001b[38;5;28;01mwith\u001b[39;00m \u001b[38;5;28mopen\u001b[39m(\u001b[38;5;124m'\u001b[39m\u001b[38;5;124mgluecosdata/sentiment/validation.txt\u001b[39m\u001b[38;5;124m'\u001b[39m, \u001b[38;5;124m'\u001b[39m\u001b[38;5;124mr\u001b[39m\u001b[38;5;124m'\u001b[39m) \u001b[38;5;28;01mas\u001b[39;00m f:\n",
      "File \u001b[0;32m/anaconda/envs/megaverse/lib/python3.9/site-packages/IPython/core/interactiveshell.py:284\u001b[0m, in \u001b[0;36m_modified_open\u001b[0;34m(file, *args, **kwargs)\u001b[0m\n\u001b[1;32m    277\u001b[0m \u001b[38;5;28;01mif\u001b[39;00m file \u001b[38;5;129;01min\u001b[39;00m {\u001b[38;5;241m0\u001b[39m, \u001b[38;5;241m1\u001b[39m, \u001b[38;5;241m2\u001b[39m}:\n\u001b[1;32m    278\u001b[0m     \u001b[38;5;28;01mraise\u001b[39;00m \u001b[38;5;167;01mValueError\u001b[39;00m(\n\u001b[1;32m    279\u001b[0m         \u001b[38;5;124mf\u001b[39m\u001b[38;5;124m\"\u001b[39m\u001b[38;5;124mIPython won\u001b[39m\u001b[38;5;124m'\u001b[39m\u001b[38;5;124mt let you open fd=\u001b[39m\u001b[38;5;132;01m{\u001b[39;00mfile\u001b[38;5;132;01m}\u001b[39;00m\u001b[38;5;124m by default \u001b[39m\u001b[38;5;124m\"\u001b[39m\n\u001b[1;32m    280\u001b[0m         \u001b[38;5;124m\"\u001b[39m\u001b[38;5;124mas it is likely to crash IPython. If you know what you are doing, \u001b[39m\u001b[38;5;124m\"\u001b[39m\n\u001b[1;32m    281\u001b[0m         \u001b[38;5;124m\"\u001b[39m\u001b[38;5;124myou can use builtins\u001b[39m\u001b[38;5;124m'\u001b[39m\u001b[38;5;124m open.\u001b[39m\u001b[38;5;124m\"\u001b[39m\n\u001b[1;32m    282\u001b[0m     )\n\u001b[0;32m--> 284\u001b[0m \u001b[38;5;28;01mreturn\u001b[39;00m \u001b[43mio_open\u001b[49m\u001b[43m(\u001b[49m\u001b[43mfile\u001b[49m\u001b[43m,\u001b[49m\u001b[43m \u001b[49m\u001b[38;5;241;43m*\u001b[39;49m\u001b[43margs\u001b[49m\u001b[43m,\u001b[49m\u001b[43m \u001b[49m\u001b[38;5;241;43m*\u001b[39;49m\u001b[38;5;241;43m*\u001b[39;49m\u001b[43mkwargs\u001b[49m\u001b[43m)\u001b[49m\n",
      "\u001b[0;31mFileNotFoundError\u001b[0m: [Errno 2] No such file or directory: 'gluecosdata/sentiment/train.txt'"
     ]
    }
   ],
   "source": [
    "# Read train.txt and test.txt files\n",
    "with open('gluecosdata/sentiment/train.txt', 'r') as f:\n",
    "    train_lines = f.readlines()\n",
    "with open('gluecosdata/sentiment/validation.txt', 'r') as f:\n",
    "    test_lines = f.readlines()\n",
    "\n",
    "# Create dictionaries with \"text\" and \"label\" keys and corresponding values from train.txt and test.txt\n",
    "train_dict = {\"text\": [], \"label\": []}\n",
    "for line in train_lines:\n",
    "    text, label = line.strip().split('\\t')\n",
    "    train_dict[\"text\"].append(text)\n",
    "    train_dict[\"label\"].append(label)\n",
    "\n",
    "test_dict = {\"text\": [], \"label\": []}\n",
    "for line in test_lines:\n",
    "    text, label = line.strip().split('\\t')\n",
    "    test_dict[\"text\"].append(text)\n",
    "    test_dict[\"label\"].append(label)\n",
    "\n",
    "# # Create Dataset objects\n",
    "train_dataset = Dataset.from_dict(train_dict)\n",
    "test_dataset = Dataset.from_dict(test_dict)\n",
    "\n",
    "# Create DatasetDict with \"train\" and \"test\" keys\n",
    "dataset_dict = DatasetDict({\"train\": train_dataset, \"test\": test_dataset})\n",
    "dataset_dict"
   ]
  },
  {
   "cell_type": "code",
   "execution_count": 6,
   "id": "5508b5b8",
   "metadata": {},
   "outputs": [],
   "source": [
    "model = \"gpt-35-turbo-deployment\"\n",
    "prompt_name = \"following positive negative neutral\"\n",
    "few_shot_k = 8"
   ]
  },
  {
   "cell_type": "code",
   "execution_count": 7,
   "id": "37a754c2",
   "metadata": {},
   "outputs": [
    {
     "data": {
      "text/plain": [
       "{'text': ['campeon really hit me in the heart ! ! !',\n",
       "  'hahah todo es bien pues , que estas haciendo que no te has dormido lol',\n",
       "  'y nada de fat puro muscle',\n",
       "  'stupid .. i think u do sometimes ! ! : o ya se por quien tmb ... lol',\n",
       "  'yeaaa people will always bitch and have shit to say ! i was tld my damas looked better then me'],\n",
       " 'label': ['positive', 'positive', 'neutral', 'negative', 'negative']}"
      ]
     },
     "execution_count": 7,
     "metadata": {},
     "output_type": "execute_result"
    }
   ],
   "source": [
    "train_dataset[:5]"
   ]
  },
  {
   "cell_type": "code",
   "execution_count": 8,
   "id": "6815059b",
   "metadata": {},
   "outputs": [],
   "source": [
    "template = \"\"\"Does the following sentence have a positive, negative or neutral sentiment? {sentence}\"\"\"\n",
    "\n",
    "verbalizer = { \"positive\": \"positive\", \"negative\": \"negative\", \"neutral\": \"neutral\"}\n"
   ]
  },
  {
   "cell_type": "code",
   "execution_count": 9,
   "id": "390d4bbf",
   "metadata": {},
   "outputs": [
    {
     "name": "stdout",
     "output_type": "stream",
     "text": [
      "You are an NLP assistant whose purpose is to solve Sentiment Analysis problems. Sentiment Analysis is the task of determining whether the sentiment, opinion or emotion expressed in a textual data is: positive, negative, or neutral. Answer as concisely as possible in the same format as the examples below:\n"
     ]
    }
   ],
   "source": [
    "# Loading instruction for the task\n",
    "instruction = INSTRUCTIONS[\"gluecos_sentiment\"]\n",
    "print(instruction)"
   ]
  },
  {
   "cell_type": "code",
   "execution_count": 10,
   "id": "09a49b22",
   "metadata": {},
   "outputs": [],
   "source": [
    "# Getting few-shot examples\n",
    "train_examples = choose_few_shot_examples(\n",
    "        train_dataset, few_shot_k, selection_criteria=\"random\")"
   ]
  },
  {
   "cell_type": "code",
   "execution_count": 11,
   "id": "959a3916",
   "metadata": {},
   "outputs": [
    {
     "data": {
      "text/plain": [
       "[{'role': 'system',\n",
       "  'content': 'You are an NLP assistant whose purpose is to solve Sentiment Analysis problems. Sentiment Analysis is the task of determining whether the sentiment, opinion or emotion expressed in a textual data is: positive, negative, or neutral. Answer as concisely as possible in the same format as the examples below:'},\n",
       " {'role': 'user',\n",
       "  'content': 'Does the following sentence have a positive, negative or neutral sentiment? {sentence}'},\n",
       " {'role': 'assistant', 'content': 'neutral'},\n",
       " {'role': 'user',\n",
       "  'content': 'Does the following sentence have a positive, negative or neutral sentiment? {sentence}'},\n",
       " {'role': 'assistant', 'content': 'neutral'},\n",
       " {'role': 'user',\n",
       "  'content': 'Does the following sentence have a positive, negative or neutral sentiment? {sentence}'},\n",
       " {'role': 'assistant', 'content': 'neutral'},\n",
       " {'role': 'user',\n",
       "  'content': 'Does the following sentence have a positive, negative or neutral sentiment? {sentence}'},\n",
       " {'role': 'assistant', 'content': 'neutral'},\n",
       " {'role': 'user',\n",
       "  'content': 'Does the following sentence have a positive, negative or neutral sentiment? {sentence}'},\n",
       " {'role': 'assistant', 'content': 'neutral'},\n",
       " {'role': 'user',\n",
       "  'content': 'Does the following sentence have a positive, negative or neutral sentiment? {sentence}'},\n",
       " {'role': 'assistant', 'content': 'neutral'},\n",
       " {'role': 'user',\n",
       "  'content': 'Does the following sentence have a positive, negative or neutral sentiment? {sentence}'},\n",
       " {'role': 'assistant', 'content': 'neutral'},\n",
       " {'role': 'user',\n",
       "  'content': 'Does the following sentence have a positive, negative or neutral sentiment? {sentence}'},\n",
       " {'role': 'assistant', 'content': 'negative'},\n",
       " {'role': 'user',\n",
       "  'content': 'Does the following sentence have a positive, negative or neutral sentiment? {sentence}'}]"
      ]
     },
     "execution_count": 11,
     "metadata": {},
     "output_type": "execute_result"
    }
   ],
   "source": [
    "test_example = test_dataset[0]\n",
    "\n",
    "prompt, label = construct_cmsentiment_prompt(\n",
    "    train_examples,\n",
    "    test_dataset[0],\n",
    "    train_prompt_template=template,\n",
    "    test_prompt_template=template,\n",
    "    chat_prompt=True,\n",
    "    instruction=instruction,\n",
    "    verbalizer=verbalizer\n",
    ")\n",
    "prompt"
   ]
  },
  {
   "cell_type": "code",
   "execution_count": 12,
   "id": "65b67c64",
   "metadata": {},
   "outputs": [
    {
     "name": "stdout",
     "output_type": "stream",
     "text": [
      "Prediction: positive\n",
      "Label: neutral\n",
      "Match: 0.0\n"
     ]
    }
   ],
   "source": [
    "prediction = gpt3x_completion(\n",
    "    prompt,\n",
    "    model,\n",
    "    temperature=0,\n",
    "    max_tokens=10\n",
    ")\n",
    "match = float(prediction.startswith(label))\n",
    "print(f\"Prediction: {prediction}\")\n",
    "print(f\"Label: {label}\")\n",
    "print(f\"Match: {match}\")"
   ]
  },
  {
   "cell_type": "code",
   "execution_count": 13,
   "id": "e7adde71",
   "metadata": {},
   "outputs": [
    {
     "name": "stderr",
     "output_type": "stream",
     "text": [
      "100%|██████████| 231/231 [05:57<00:00,  1.55s/it]"
     ]
    },
    {
     "name": "stdout",
     "output_type": "stream",
     "text": [
      "Accuracy: 0.2943722943722944\n"
     ]
    },
    {
     "name": "stderr",
     "output_type": "stream",
     "text": [
      "\n"
     ]
    }
   ],
   "source": [
    "matches = []\n",
    "preds = []\n",
    "labels = []\n",
    "for test_example in tqdm(test_dataset):\n",
    "    prompt, label = construct_cmsentiment_prompt(\n",
    "        train_examples,\n",
    "        test_example,\n",
    "        train_prompt_template=template,\n",
    "        test_prompt_template=template,\n",
    "        chat_prompt=True,\n",
    "        instruction=instruction,\n",
    "        verbalizer=verbalizer\n",
    "    )\n",
    "    prediction = gpt3x_completion(\n",
    "        prompt,\n",
    "        model,\n",
    "        temperature=0,\n",
    "        max_tokens=10\n",
    "    )\n",
    "    time.sleep(1/2)\n",
    "    match = float(prediction.startswith(label))\n",
    "    preds.append(prediction)\n",
    "    labels.append(label)\n",
    "    matches.append(match)\n",
    "\n",
    "print(f\"Accuracy: {np.mean(matches)}\")"
   ]
  },
  {
   "cell_type": "code",
   "execution_count": null,
   "id": "d0edf816",
   "metadata": {},
   "outputs": [],
   "source": []
  }
 ],
 "metadata": {
  "kernelspec": {
   "display_name": "Python 3 (ipykernel)",
   "language": "python",
   "name": "python3"
  },
  "language_info": {
   "codemirror_mode": {
    "name": "ipython",
    "version": 3
   },
   "file_extension": ".py",
   "mimetype": "text/x-python",
   "name": "python",
   "nbconvert_exporter": "python",
   "pygments_lexer": "ipython3",
   "version": "3.8.10"
  }
 },
 "nbformat": 4,
 "nbformat_minor": 5
}
