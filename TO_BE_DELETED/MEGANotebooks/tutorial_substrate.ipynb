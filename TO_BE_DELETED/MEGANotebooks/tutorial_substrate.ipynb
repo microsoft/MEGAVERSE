{
 "cells": [
  {
   "cell_type": "code",
   "execution_count": 1,
   "metadata": {},
   "outputs": [],
   "source": [
    "%load_ext autoreload\n",
    "%autoreload 2"
   ]
  },
  {
   "attachments": {},
   "cell_type": "markdown",
   "metadata": {},
   "source": [
    "# Available models\n",
    "Available models, and model names are given here  <a href=\"https://msasg.visualstudio.com/QAS/_wiki/wikis/QAS.wiki/134728/Getting-Started-with-Substrate-LLM-API?anchor=available-models\"> Substrate-LLM-API available models</a>."
   ]
  },
  {
   "cell_type": "code",
   "execution_count": 2,
   "metadata": {},
   "outputs": [
    {
     "name": "stdout",
     "output_type": "stream",
     "text": [
      "start to install package: redis\n",
      "successfully installed package: redis\n",
      "start to install package: redis-om\n"
     ]
    },
    {
     "name": "stderr",
     "output_type": "stream",
     "text": [
      "\u001b[31mERROR: pip's dependency resolver does not currently take into account all the packages that are installed. This behaviour is the source of the following dependency conflicts.\n",
      "chromadb 0.4.15 requires tokenizers>=0.13.2, but you have tokenizers 0.12.1 which is incompatible.\n",
      "streamlit 0.82.0 requires click<8.0,>=7.0, but you have click 8.1.7 which is incompatible.\u001b[0m\u001b[31m\n",
      "\u001b[0m"
     ]
    },
    {
     "name": "stdout",
     "output_type": "stream",
     "text": [
      "successfully installed package: redis-om\n"
     ]
    }
   ],
   "source": [
    "import guidance"
   ]
  },
  {
   "cell_type": "code",
   "execution_count": 4,
   "metadata": {},
   "outputs": [],
   "source": [
    "from guidance.llms._substrate_llm import SubstrateLLM"
   ]
  },
  {
   "attachments": {},
   "cell_type": "markdown",
   "metadata": {},
   "source": [
    "# AAD based authentication (preferred)"
   ]
  },
  {
   "cell_type": "code",
   "execution_count": 8,
   "metadata": {},
   "outputs": [
    {
     "name": "stdout",
     "output_type": "stream",
     "text": [
      "To sign in, use a web browser to open the page https://microsoft.com/devicelogin and enter the code EMDN5RXDV to authenticate.\n"
     ]
    }
   ],
   "source": [
    "\n",
    "# # we will use GPT-3 for most of the examples in this tutorial\n",
    "# guidance.llm = guidance.llms.OpenAI(\"text-davinci-003\")\n",
    "\n",
    "_ENDPOINT = \"\"\"https://httpqas26-frontend-qasazap-prod-dsm02p.qas.binginternal.com/completions\"\n",
    "_SCOPES = [\"api://68df66a4-cad9-4bfd-872b-c6ddde00d6b2/access\"]\n",
    "_CLIENT_ID = \"68df66a4-cad9-4bfd-872b-c6ddde00d6b2\"\n",
    "_AUTHORITY = \"https://login.microsoftonline.com/72f988bf-86f1-41af-91ab-2d7cd011db47\"\n",
    "guidance.llm = SubstrateLLM(model=\"gpt-3.5-turbo-cl100k_base\",\n",
    "                                          model_name=\"dev-gpt-35-turbo\",\n",
    "                                          caching=False,\n",
    "                                          chat_mode=False, \n",
    "                                          client_id=_CLIENT_ID, \n",
    "                                          authority=_AUTHORITY, \n",
    "                                          endpoint=_ENDPOINT, \n",
    "                                          scopes=_SCOPES)"
   ]
  },
  {
   "cell_type": "code",
   "execution_count": 9,
   "metadata": {},
   "outputs": [
    {
     "data": {
      "text/plain": [
       "(<Encoding 'cl100k_base'>,\n",
       " False,\n",
       " 'dev-gpt-35-turbo',\n",
       " {'Content-Type': 'application/json',\n",
       "  'X-ModelType': 'dev-gpt-35-turbo',\n",
       "  'Accept': 'application/json'})"
      ]
     },
     "execution_count": 9,
     "metadata": {},
     "output_type": "execute_result"
    }
   ],
   "source": [
    "guidance.llm._tokenizer,  guidance.llm.chat_mode, guidance.llm.model_name, guidance.llm._rest_headers"
   ]
  },
  {
   "cell_type": "code",
   "execution_count": 20,
   "metadata": {},
   "outputs": [],
   "source": [
    "prompt =\"\"\"<|im_start|>system \n",
    "You are an NLP assistant whose purpose is to perform Named Entity Recognition (NER). NER involves identifying and classifying named entities in a text into predefined categories such as person names, organizations, locations, and others. You will need to use the tags defined below:\n",
    "O means the word doesn’t correspond to any entity.\n",
    "B-PER/I-PER means the word corresponds to the beginning of/is inside a person entity.\n",
    "B-ORG/I-ORG means the word corresponds to the beginning of/is inside an organization entity.\n",
    "B-LOC/I-LOC means the word corresponds to the beginning of/is inside a location entity.\n",
    "Do not try to answer the question! Just tag each token in the sentence.<|im_end|>\n",
    "<|im_start|>user\n",
    "Tag the following sentence: \\\"Stratford , Oklahoma\\\"<|im_end|>\n",
    "<|im_start|>assistant\n",
    "Stratford_B-LOC ,_I-LOC Oklahoma_I-LOC<|im_end|>\n",
    "<|im_start|>user\n",
    "Tag the following sentence: \\\"Anders Behring Breivik\\\"<|im_end|>\n",
    "<|im_start|>assistant\n",
    "Anders_B-PER Behring_I-PER Breivik_I-PER<|im_end|>\n",
    "<|im_start|>user\n",
    "Tag the following sentence: \\\"'' The World as Best as I Remember It , Volume Two '' ( 1992 )\\\"<|im_end|>\n",
    "<|im_start|>assistant\n",
    "''_O The_B-ORG World_I-ORG as_I-ORG Best_I-ORG as_I-ORG I_I-ORG Remember_I-ORG It_I-ORG ,_I-ORG Volume_I-ORG Two_I-ORG ''_O (_O 1992_O )_O<|im_end|>\n",
    "<|im_start|>user\n",
    "Tag the following sentence: \\\"24 Apr – Heinrich Himmler\\\"<|im_end|>\n",
    "<|im_start|>assistant\n",
    "24_O Apr_O –_O Heinrich_B-PER Himmler_I-PER<|im_end|>\n",
    "<|im_start|>user\n",
    "Tag the following sentence: \\\"`` Flight of Icarus '' ( Tierra Santa )\\\"<|im_end|>\n",
    "<|im_start|>assistant\n",
    "``_O Flight_B-ORG of_I-ORG Icarus_I-ORG ''_O (_O Tierra_B-ORG Santa_I-ORG )_O<|im_end|>\n",
    "<|im_start|>user\n",
    "Tag the following sentence: \\\"Bath and North East Somerset\\\"<|im_end|>\n",
    "<|im_start|>assistant\n",
    "Bath_B-LOC and_I-LOC North_I-LOC East_I-LOC Somerset_I-LOC<|im_end|>\n",
    "<|im_start|>user\n",
    "Tag the following sentence: \\\"Communes of the Marne department\\\"<|im_end|>\n",
    "<|im_start|>assistant\n",
    "Communes_B-LOC of_I-LOC the_I-LOC Marne_I-LOC department_I-LOC<|im_end|>\n",
    "<|im_start|>user\n",
    "Tag the following sentence: \\\"1970 — did not compete\\\"<|im_end|>\n",
    "<|im_start|>assistant\n",
    "1970_B-ORG —_O did_O not_O compete_O<|im_end|>\n",
    "<|im_start|>user\n",
    "Tag the following sentence: \\\"' '' Bruno Ruffo '' '\\\"\n",
    "<|im_end|>\n",
    "<|im_start|>assistant\"\"\""
   ]
  },
  {
   "cell_type": "code",
   "execution_count": 15,
   "metadata": {},
   "outputs": [],
   "source": [
    "from guidance.llms._openai import prompt_to_messages\n",
    "from guidance.llms._substrate_llm import messages_to_guidance, messages_to_prompt"
   ]
  },
  {
   "cell_type": "code",
   "execution_count": 21,
   "metadata": {},
   "outputs": [],
   "source": [
    "messages = prompt_to_messages(prompt)"
   ]
  },
  {
   "cell_type": "code",
   "execution_count": 23,
   "metadata": {},
   "outputs": [
    {
     "data": {
      "text/plain": [
       "[{'role': 'system',\n",
       "  'content': 'You are an NLP assistant whose purpose is to perform Named Entity Recognition (NER). NER involves identifying and classifying named entities in a text into predefined categories such as person names, organizations, locations, and others. You will need to use the tags defined below:\\nO means the word doesn’t correspond to any entity.\\nB-PER/I-PER means the word corresponds to the beginning of/is inside a person entity.\\nB-ORG/I-ORG means the word corresponds to the beginning of/is inside an organization entity.\\nB-LOC/I-LOC means the word corresponds to the beginning of/is inside a location entity.\\nDo not try to answer the question! Just tag each token in the sentence.'},\n",
       " {'role': 'user',\n",
       "  'content': 'Tag the following sentence: \"Stratford , Oklahoma\"'},\n",
       " {'role': 'assistant', 'content': 'Stratford_B-LOC ,_I-LOC Oklahoma_I-LOC'},\n",
       " {'role': 'user',\n",
       "  'content': 'Tag the following sentence: \"Anders Behring Breivik\"'},\n",
       " {'role': 'assistant', 'content': 'Anders_B-PER Behring_I-PER Breivik_I-PER'},\n",
       " {'role': 'user',\n",
       "  'content': 'Tag the following sentence: \"\\'\\' The World as Best as I Remember It , Volume Two \\'\\' ( 1992 )\"'},\n",
       " {'role': 'assistant',\n",
       "  'content': \"''_O The_B-ORG World_I-ORG as_I-ORG Best_I-ORG as_I-ORG I_I-ORG Remember_I-ORG It_I-ORG ,_I-ORG Volume_I-ORG Two_I-ORG ''_O (_O 1992_O )_O\"},\n",
       " {'role': 'user',\n",
       "  'content': 'Tag the following sentence: \"24 Apr – Heinrich Himmler\"'},\n",
       " {'role': 'assistant',\n",
       "  'content': '24_O Apr_O –_O Heinrich_B-PER Himmler_I-PER'},\n",
       " {'role': 'user',\n",
       "  'content': 'Tag the following sentence: \"`` Flight of Icarus \\'\\' ( Tierra Santa )\"'},\n",
       " {'role': 'assistant',\n",
       "  'content': \"``_O Flight_B-ORG of_I-ORG Icarus_I-ORG ''_O (_O Tierra_B-ORG Santa_I-ORG )_O\"},\n",
       " {'role': 'user',\n",
       "  'content': 'Tag the following sentence: \"Bath and North East Somerset\"'},\n",
       " {'role': 'assistant',\n",
       "  'content': 'Bath_B-LOC and_I-LOC North_I-LOC East_I-LOC Somerset_I-LOC'},\n",
       " {'role': 'user',\n",
       "  'content': 'Tag the following sentence: \"Communes of the Marne department\"'},\n",
       " {'role': 'assistant',\n",
       "  'content': 'Communes_B-LOC of_I-LOC the_I-LOC Marne_I-LOC department_I-LOC'},\n",
       " {'role': 'user',\n",
       "  'content': 'Tag the following sentence: \"1970 — did not compete\"'},\n",
       " {'role': 'assistant', 'content': '1970_B-ORG —_O did_O not_O compete_O'},\n",
       " {'role': 'user',\n",
       "  'content': 'Tag the following sentence: \"\\' \\'\\' Bruno Ruffo \\'\\' \\'\"'},\n",
       " {'role': 'assistant', 'content': ''}]"
      ]
     },
     "execution_count": 23,
     "metadata": {},
     "output_type": "execute_result"
    }
   ],
   "source": [
    "messages"
   ]
  },
  {
   "cell_type": "code",
   "execution_count": 31,
   "metadata": {},
   "outputs": [
    {
     "name": "stdout",
     "output_type": "stream",
     "text": [
      "[\"'_'\", 'Bruno_B-PER', 'Ruffo_I-PER', \"''_O\", \"'_O\"]\n"
     ]
    }
   ],
   "source": [
    "import tiktoken\n",
    "substrate_output= [\"\\'_\\'\", 'Bruno_B-PER', 'Ruffo_I-PER', \"\\'\\'_O\", \"\\'_O\"],\n",
    "expected_output= [\"\\'_O\", \"\\'\\'_O\", 'Bruno_B-PER', 'Ruffo_I-PER', \"\\'\\'_O\", \"\\'_O\"]\n",
    "\n",
    "# strip whitespace from each item in the substrate_output and expected_output lists\n",
    "for i in substrate_output:\n",
    "    print(i)\n",
    "    break\n",
    "# substrate_output = [item.strip() for item in substrate_output]"
   ]
  },
  {
   "cell_type": "code",
   "execution_count": null,
   "metadata": {},
   "outputs": [],
   "source": [
    "list(map(lambda x: x.strip(), substrate_output))\n",
    "\n",
    "# substrate_output = list(map(lambda x: x.strip(), substrate_output))\n",
    "# expected_output = list(map(lambda x: x.strip(), expected_output))\n",
    "# substrate_output = \" \".join(substrate_output)\n",
    "# expected_output = \" \".join(expected_output)\n",
    "\n",
    "# enc = tiktoken.get_encoding(\"cl100k_base\")\n",
    "# encoded_substrate_output = enc.encode(substrate_output)\n",
    "# encoded_expected_output = enc.encode(expected_output)\n",
    "\n",
    "# assert enc.decode(enc.encode(\"hello world\")) == \"'''BrunoRuffo'''\"\n",
    "\n",
    "# To get the tokeniser corresponding to a specific model in the OpenAI API:\n",
    "# enc = tiktoken.encoding_for_model(\"gpt-4\")"
   ]
  },
  {
   "cell_type": "code",
   "execution_count": 22,
   "metadata": {},
   "outputs": [
    {
     "name": "stdout",
     "output_type": "stream",
     "text": [
      "[{'content': 'You are an NLP assistant whose purpose is to perform Named '\n",
      "             'Entity Recognition (NER). NER involves identifying and '\n",
      "             'classifying named entities in a text into predefined categories '\n",
      "             'such as person names, organizations, locations, and others. You '\n",
      "             'will need to use the tags defined below:\\n'\n",
      "             'O means the word doesn’t correspond to any entity.\\n'\n",
      "             'B-PER/I-PER means the word corresponds to the beginning of/is '\n",
      "             'inside a person entity.\\n'\n",
      "             'B-ORG/I-ORG means the word corresponds to the beginning of/is '\n",
      "             'inside an organization entity.\\n'\n",
      "             'B-LOC/I-LOC means the word corresponds to the beginning of/is '\n",
      "             'inside a location entity.\\n'\n",
      "             'Do not try to answer the question! Just tag each token in the '\n",
      "             'sentence.',\n",
      "  'role': 'system'},\n",
      " {'content': 'Tag the following sentence: \"Stratford , Oklahoma\"',\n",
      "  'role': 'user'},\n",
      " {'content': 'Stratford_B-LOC ,_I-LOC Oklahoma_I-LOC', 'role': 'assistant'},\n",
      " {'content': 'Tag the following sentence: \"Anders Behring Breivik\"',\n",
      "  'role': 'user'},\n",
      " {'content': 'Anders_B-PER Behring_I-PER Breivik_I-PER', 'role': 'assistant'},\n",
      " {'content': 'Tag the following sentence: \"\\'\\' The World as Best as I '\n",
      "             'Remember It , Volume Two \\'\\' ( 1992 )\"',\n",
      "  'role': 'user'},\n",
      " {'content': \"''_O The_B-ORG World_I-ORG as_I-ORG Best_I-ORG as_I-ORG I_I-ORG \"\n",
      "             \"Remember_I-ORG It_I-ORG ,_I-ORG Volume_I-ORG Two_I-ORG ''_O (_O \"\n",
      "             '1992_O )_O',\n",
      "  'role': 'assistant'},\n",
      " {'content': 'Tag the following sentence: \"24 Apr – Heinrich Himmler\"',\n",
      "  'role': 'user'},\n",
      " {'content': '24_O Apr_O –_O Heinrich_B-PER Himmler_I-PER',\n",
      "  'role': 'assistant'},\n",
      " {'content': 'Tag the following sentence: \"`` Flight of Icarus \\'\\' ( Tierra '\n",
      "             'Santa )\"',\n",
      "  'role': 'user'},\n",
      " {'content': \"``_O Flight_B-ORG of_I-ORG Icarus_I-ORG ''_O (_O Tierra_B-ORG \"\n",
      "             'Santa_I-ORG )_O',\n",
      "  'role': 'assistant'},\n",
      " {'content': 'Tag the following sentence: \"Bath and North East Somerset\"',\n",
      "  'role': 'user'},\n",
      " {'content': 'Bath_B-LOC and_I-LOC North_I-LOC East_I-LOC Somerset_I-LOC',\n",
      "  'role': 'assistant'},\n",
      " {'content': 'Tag the following sentence: \"Communes of the Marne department\"',\n",
      "  'role': 'user'},\n",
      " {'content': 'Communes_B-LOC of_I-LOC the_I-LOC Marne_I-LOC department_I-LOC',\n",
      "  'role': 'assistant'},\n",
      " {'content': 'Tag the following sentence: \"1970 — did not compete\"',\n",
      "  'role': 'user'},\n",
      " {'content': '1970_B-ORG —_O did_O not_O compete_O', 'role': 'assistant'},\n",
      " {'content': 'Tag the following sentence: \"\\' \\'\\' Bruno Ruffo \\'\\' \\'\"',\n",
      "  'role': 'user'},\n",
      " {'content': '', 'role': 'assistant'}]\n"
     ]
    }
   ],
   "source": [
    "from pprint import pprint\n",
    "pprint(messages)"
   ]
  },
  {
   "attachments": {},
   "cell_type": "markdown",
   "metadata": {},
   "source": [
    "## Chat"
   ]
  },
  {
   "cell_type": "code",
   "execution_count": 31,
   "metadata": {},
   "outputs": [],
   "source": [
    "\n",
    "_ENDPOINT = \"https://httpqas26-frontend-qasazap-prod-dsm02p.qas.binginternal.com/completions\"\n",
    "_SCOPES = [\"api://68df66a4-cad9-4bfd-872b-c6ddde00d6b2/access\"]\n",
    "_CLIENT_ID = \"68df66a4-cad9-4bfd-872b-c6ddde00d6b2\"\n",
    "_AUTHORITY = \"https://login.microsoftonline.com/72f988bf-86f1-41af-91ab-2d7cd011db47\"\n",
    "guidance.llm = guidance.llms.SubstrateLLM(auth_method=\"AAD\",\n",
    "                                        model=\"gpt-4\",\n",
    "                                        model_name=\"dev-ppo\",\n",
    "                                        caching=False,\n",
    "                                        chat_mode=\"auto\",  \n",
    "                                        client_id=_CLIENT_ID, \n",
    "                                        authority=_AUTHORITY, \n",
    "                                        endpoint=_ENDPOINT, \n",
    "                                        scopes=_SCOPES)\n"
   ]
  },
  {
   "cell_type": "code",
   "execution_count": 32,
   "metadata": {},
   "outputs": [],
   "source": [
    "# note that we enclose all of the text in one of the valid role tags for the model\n",
    "# `system`, `user`, and `assistant` are just shorthand for {{#role name=\"system\"}}...{{/role}}\n",
    "# the whitepace outside the role tags is ignored by gpt-4, the whitespace inside the role tags is not\n",
    "# so we use the ~ to remove the whitespace we don't want to give to the model (but want to keep in the code for clarity)\n",
    "program = guidance('''\n",
    "{{#system~}}\n",
    "You are a helpful assistant.\n",
    "{{~/system}}\n",
    "\n",
    "{{#user~}}\n",
    "{{conversation_question}}\n",
    "{{~/user}}\n",
    "\n",
    "{{! this is a comment. note that we don't have to use a stop=\"stop_string\" for the gen command below because Guidance infers the stop string from the role tag }}\n",
    "{{#assistant~}}\n",
    "{{gen 'response'}}\n",
    "{{~/assistant}}''')\n",
    "\n"
   ]
  },
  {
   "cell_type": "code",
   "execution_count": 33,
   "metadata": {},
   "outputs": [
    {
     "data": {
      "text/html": [
       "<div id=\"guidance-stop-button-02b826c9-6baa-4d0c-93bb-37b9ce113087\" style=\"cursor: pointer; margin: 0px; display: none; float: right; padding: 3px; border-radius: 4px 4px 4px 4px; border: 0px solid rgba(127, 127, 127, 1); padding-left: 10px; padding-right: 10px; font-size: 13px; background-color: rgba(127, 127, 127, 0.25);\">Stop program</div><div id=\"guidance-content-02b826c9-6baa-4d0c-93bb-37b9ce113087\"><pre style='margin: 0px; padding: 0px; padding-left: 8px; margin-left: -8px; border-radius: 0px; border-left: 1px solid rgba(127, 127, 127, 0.2); white-space: pre-wrap; font-family: ColfaxAI, Arial; font-size: 15px; line-height: 23px;'> \n",
       "<span style='background-color: rgba(0, 138.56128016, 250.76166089, 0.25);'>{{#system~}}</span>\n",
       "You are a helpful assistant.\n",
       "<span style='background-color: rgba(0, 138.56128016, 250.76166089, 0.25);'>{{~/system}}</span>\n",
       "\n",
       "<span style='background-color: rgba(0, 138.56128016, 250.76166089, 0.25);'>{{#user~}}</span>\n",
       "<span style='background-color: rgba(0, 138.56128016, 250.76166089, 0.25);'>{{conversation_question}}</span>\n",
       "<span style='background-color: rgba(0, 138.56128016, 250.76166089, 0.25);'>{{~/user}}</span>\n",
       "\n",
       "\n",
       "<span style='background-color: rgba(0, 138.56128016, 250.76166089, 0.25);'>{{#assistant~}}</span>\n",
       "<span style='background-color: rgba(0, 138.56128016, 250.76166089, 0.25);'>{{gen &#x27;response&#x27;}}</span>\n",
       "<span style='background-color: rgba(0, 138.56128016, 250.76166089, 0.25);'>{{~/assistant}}</span></pre></div>\n",
       "<script type=\"text/javascript\">(()=>{var t={296:(t,e,n)=>{var i=NaN,o=\"[object Symbol]\",r=/^\\s+|\\s+$/g,a=/^[-+]0x[0-9a-f]+$/i,s=/^0b[01]+$/i,c=/^0o[0-7]+$/i,d=parseInt,u=\"object\"==typeof n.g&&n.g&&n.g.Object===Object&&n.g,l=\"object\"==typeof self&&self&&self.Object===Object&&self,f=u||l||Function(\"return this\")(),h=Object.prototype.toString,p=Math.max,m=Math.min,g=function(){return f.Date.now()};function b(t){var e=typeof t;return!!t&&(\"object\"==e||\"function\"==e)}function y(t){if(\"number\"==typeof t)return t;if(function(t){return\"symbol\"==typeof t||function(t){return!!t&&\"object\"==typeof t}(t)&&h.call(t)==o}(t))return i;if(b(t)){var e=\"function\"==typeof t.valueOf?t.valueOf():t;t=b(e)?e+\"\":e}if(\"string\"!=typeof t)return 0===t?t:+t;t=t.replace(r,\"\");var n=s.test(t);return n||c.test(t)?d(t.slice(2),n?2:8):a.test(t)?i:+t}t.exports=function(t,e,n){var i,o,r,a,s,c,d=0,u=!1,l=!1,f=!0;if(\"function\"!=typeof t)throw new TypeError(\"Expected a function\");function h(e){var n=i,r=o;return i=o=void 0,d=e,a=t.apply(r,n)}function v(t){var n=t-c;return void 0===c||n>=e||n<0||l&&t-d>=r}function _(){var t=g();if(v(t))return w(t);s=setTimeout(_,function(t){var n=e-(t-c);return l?m(n,r-(t-d)):n}(t))}function w(t){return s=void 0,f&&i?h(t):(i=o=void 0,a)}function j(){var t=g(),n=v(t);if(i=arguments,o=this,c=t,n){if(void 0===s)return function(t){return d=t,s=setTimeout(_,e),u?h(t):a}(c);if(l)return s=setTimeout(_,e),h(c)}return void 0===s&&(s=setTimeout(_,e)),a}return e=y(e)||0,b(n)&&(u=!!n.leading,r=(l=\"maxWait\"in n)?p(y(n.maxWait)||0,e):r,f=\"trailing\"in n?!!n.trailing:f),j.cancel=function(){void 0!==s&&clearTimeout(s),d=0,i=c=o=s=void 0},j.flush=function(){return void 0===s?a:w(g())},j}},777:t=>{var e,n,i=Math.max,o=(e=function(t,e){return function(t,e,n){if(\"function\"!=typeof t)throw new TypeError(\"Expected a function\");return setTimeout((function(){t.apply(void 0,n)}),1)}(t,0,e)},n=i(void 0===n?e.length-1:n,0),function(){for(var t=arguments,o=-1,r=i(t.length-n,0),a=Array(r);++o<r;)a[o]=t[n+o];o=-1;for(var s=Array(n+1);++o<n;)s[o]=t[o];return s[n]=a,function(t,e,n){switch(n.length){case 0:return t.call(e);case 1:return t.call(e,n[0]);case 2:return t.call(e,n[0],n[1]);case 3:return t.call(e,n[0],n[1],n[2])}return t.apply(e,n)}(e,this,s)});t.exports=o}},e={};function n(i){var o=e[i];if(void 0!==o)return o.exports;var r=e[i]={exports:{}};return t[i](r,r.exports,n),r.exports}n.n=t=>{var e=t&&t.__esModule?()=>t.default:()=>t;return n.d(e,{a:e}),e},n.d=(t,e)=>{for(var i in e)n.o(e,i)&&!n.o(t,i)&&Object.defineProperty(t,i,{enumerable:!0,get:e[i]})},n.g=function(){if(\"object\"==typeof globalThis)return globalThis;try{return this||new Function(\"return this\")()}catch(t){if(\"object\"==typeof window)return window}}(),n.o=(t,e)=>Object.prototype.hasOwnProperty.call(t,e),(()=>{\"use strict\";const t=t=>{const e=new Set;do{for(const n of Reflect.ownKeys(t))e.add([t,n])}while((t=Reflect.getPrototypeOf(t))&&t!==Object.prototype);return e};function e(e,{include:n,exclude:i}={}){const o=t=>{const e=e=>\"string\"==typeof e?t===e:e.test(t);return n?n.some(e):!i||!i.some(e)};for(const[n,i]of t(e.constructor.prototype)){if(\"constructor\"===i||!o(i))continue;const t=Reflect.getOwnPropertyDescriptor(n,i);t&&\"function\"==typeof t.value&&(e[i]=e[i].bind(e))}return e}var i=n(777),o=n.n(i),r=n(296),a=n.n(r);class s{constructor(t,n){e(this),this.interfaceId=t,this.callbackMap={},this.data={},this.pendingData={},this.jcomm=new c(\"guidance_interface_target_\"+this.interfaceId,this.updateData,\"open\"),this.debouncedSendPendingData500=a()(this.sendPendingData,500),this.debouncedSendPendingData1000=a()(this.sendPendingData,1e3),n&&o()(n)}send(t,e){this.addPendingData(t,e),this.sendPendingData()}sendEvent(t){for(const e of Object.keys(t))this.addPendingData(e,t[e]);this.sendPendingData()}debouncedSendEvent500(t){for(const e of Object.keys(t))this.addPendingData(e,t[e]);this.debouncedSendPendingData500()}debouncedSend500(t,e){this.addPendingData(t,e),this.debouncedSendPendingData500()}debouncedSend1000(t,e){this.addPendingData(t,e),this.debouncedSendPendingData1000()}addPendingData(t,e){Array.isArray(t)||(t=[t]);for(const n in t)this.pendingData[t[n]]=e}updateData(t){t=JSON.parse(t.data);for(const e in t)this.data[e]=t[e];for(const e in t)e in this.callbackMap&&this.callbackMap[e](this.data[e])}subscribe(t,e){this.callbackMap[t]=e,o()((e=>this.callbackMap[t](this.data[t])))}sendPendingData(){this.jcomm.send_data(this.pendingData),this.pendingData={}}}class c{constructor(t,e,n=\"open\"){this._fire_callback=this._fire_callback.bind(this),this._register=this._register.bind(this),this.jcomm=void 0,this.callback=e,void 0!==window.Jupyter?\"register\"===n?Jupyter.notebook.kernel.comm_manager.register_target(t,this._register):(this.jcomm=Jupyter.notebook.kernel.comm_manager.new_comm(t),this.jcomm.on_msg(this._fire_callback)):void 0!==window._mgr&&(\"register\"===n?window._mgr.widgetManager.proxyKernel.registerCommTarget(t,this._register):(this.jcomm=window._mgr.widgetManager.proxyKernel.createComm(t),this.jcomm.open({},\"\"),this.jcomm.onMsg=this._fire_callback))}send_data(t){void 0!==this.jcomm?this.jcomm.send(t):console.error(\"Jupyter comm module not yet loaded! So we can't send the message.\")}_register(t,e){this.jcomm=t,this.jcomm.on_msg(this._fire_callback)}_fire_callback(t){this.callback(t.content.data)}}class d{constructor(t,n){e(this),this.id=t,this.comm=new s(t),this.comm.subscribe(\"append\",this.appendData),this.comm.subscribe(\"replace\",this.replaceData),this.comm.subscribe(\"event\",this.eventOccurred),this.element=document.getElementById(\"guidance-content-\"+t),this.stop_button=document.getElementById(\"guidance-stop-button-\"+t),this.stop_button.onclick=()=>this.comm.send(\"event\",\"stop\")}appendData(t){t&&(this.stop_button.style.display=\"inline-block\",this.element.innerHTML+=t)}replaceData(t){t&&(this.stop_button.style.display=\"inline-block\",this.element.innerHTML=t)}eventOccurred(t){\"complete\"===t&&(this.stop_button.style.display=\"none\")}}window._guidanceDisplay=function(t,e){return new d(t,e)}})()})();; window._guidanceDisplay(\"02b826c9-6baa-4d0c-93bb-37b9ce113087\");</script>"
      ]
     },
     "metadata": {},
     "output_type": "display_data"
    }
   ],
   "source": [
    "program"
   ]
  },
  {
   "cell_type": "code",
   "execution_count": 34,
   "metadata": {},
   "outputs": [
    {
     "data": {
      "text/html": [
       "<div id=\"guidance-stop-button-0149e085-ab6b-495c-a69b-543377c098fa\" style=\"cursor: pointer; margin: 0px; display: none; float: right; padding: 3px; border-radius: 4px 4px 4px 4px; border: 0px solid rgba(127, 127, 127, 1); padding-left: 10px; padding-right: 10px; font-size: 13px; background-color: rgba(127, 127, 127, 0.25);\">Stop program</div><div id=\"guidance-content-0149e085-ab6b-495c-a69b-543377c098fa\"><pre style='margin: 0px; padding: 0px; padding-left: 8px; margin-left: -8px; border-radius: 0px; border-left: 1px solid rgba(127, 127, 127, 0.2); white-space: pre-wrap; font-family: ColfaxAI, Arial; font-size: 15px; line-height: 23px;'><div style='display: flex; border-bottom: 1px solid rgba(127, 127, 127, 0.2); align-items: center;'><div style='flex: 0 0 80px; opacity: 0.5;'>system</div><div style='flex-grow: 1; padding: 5px; padding-top: 10px; padding-bottom: 10px; margin-top: 0px; white-space: pre-wrap; margin-bottom: 0px;'>You are a helpful assistant.</div></div><div style='display: flex; border-bottom: 1px solid rgba(127, 127, 127, 0.2); align-items: center;'><div style='flex: 0 0 80px; opacity: 0.5;'>user</div><div style='flex-grow: 1; padding: 5px; padding-top: 10px; padding-bottom: 10px; margin-top: 0px; white-space: pre-wrap; margin-bottom: 0px;'><span style='background-color: rgba(0, 138.56128016, 250.76166089, 0.25); display: inline;' title='{{conversation_question}}'>What is the meaning of life?</span></div></div><div style='display: flex; border-bottom: 1px solid rgba(127, 127, 127, 0.2); align-items: center;'><div style='flex: 0 0 80px; opacity: 0.5;'>assistant</div><div style='flex-grow: 1; padding: 5px; padding-top: 10px; padding-bottom: 10px; margin-top: 0px; white-space: pre-wrap; margin-bottom: 0px;'><span style='background-color: rgba(0, 165, 0, 0.25); opacity: 1.0; display: inline;' title='{{gen &#x27;response&#x27;}}'>As an AI, I don&#x27;t have a personal belief about the meaning of life, but this is a question that has puzzled philosophers, theologians, scientists, and many other thinkers for centuries. There are many different answers to this question, and the meaning of life is something that is deeply personal and can vary greatly from person to person. Some people believe that the meaning of life is to seek happiness, to achieve success, to fulfill one&#x27;s potential, to make the world a better place, to love and be loved, to create and experience beauty, to understand the universe and our place in it, or to connect with something greater than ourselves. Others believe that the meaning of life is determined by individual goals, values, and experiences. Ultimately, the meaning of life is something that each person must determine for themselves based on their own beliefs, values, and experiences.</span></div></div></pre></div>\n",
       "<script type=\"text/javascript\">(()=>{var t={296:(t,e,n)=>{var i=NaN,o=\"[object Symbol]\",r=/^\\s+|\\s+$/g,a=/^[-+]0x[0-9a-f]+$/i,s=/^0b[01]+$/i,c=/^0o[0-7]+$/i,d=parseInt,u=\"object\"==typeof n.g&&n.g&&n.g.Object===Object&&n.g,l=\"object\"==typeof self&&self&&self.Object===Object&&self,f=u||l||Function(\"return this\")(),h=Object.prototype.toString,p=Math.max,m=Math.min,g=function(){return f.Date.now()};function b(t){var e=typeof t;return!!t&&(\"object\"==e||\"function\"==e)}function y(t){if(\"number\"==typeof t)return t;if(function(t){return\"symbol\"==typeof t||function(t){return!!t&&\"object\"==typeof t}(t)&&h.call(t)==o}(t))return i;if(b(t)){var e=\"function\"==typeof t.valueOf?t.valueOf():t;t=b(e)?e+\"\":e}if(\"string\"!=typeof t)return 0===t?t:+t;t=t.replace(r,\"\");var n=s.test(t);return n||c.test(t)?d(t.slice(2),n?2:8):a.test(t)?i:+t}t.exports=function(t,e,n){var i,o,r,a,s,c,d=0,u=!1,l=!1,f=!0;if(\"function\"!=typeof t)throw new TypeError(\"Expected a function\");function h(e){var n=i,r=o;return i=o=void 0,d=e,a=t.apply(r,n)}function v(t){var n=t-c;return void 0===c||n>=e||n<0||l&&t-d>=r}function _(){var t=g();if(v(t))return w(t);s=setTimeout(_,function(t){var n=e-(t-c);return l?m(n,r-(t-d)):n}(t))}function w(t){return s=void 0,f&&i?h(t):(i=o=void 0,a)}function j(){var t=g(),n=v(t);if(i=arguments,o=this,c=t,n){if(void 0===s)return function(t){return d=t,s=setTimeout(_,e),u?h(t):a}(c);if(l)return s=setTimeout(_,e),h(c)}return void 0===s&&(s=setTimeout(_,e)),a}return e=y(e)||0,b(n)&&(u=!!n.leading,r=(l=\"maxWait\"in n)?p(y(n.maxWait)||0,e):r,f=\"trailing\"in n?!!n.trailing:f),j.cancel=function(){void 0!==s&&clearTimeout(s),d=0,i=c=o=s=void 0},j.flush=function(){return void 0===s?a:w(g())},j}},777:t=>{var e,n,i=Math.max,o=(e=function(t,e){return function(t,e,n){if(\"function\"!=typeof t)throw new TypeError(\"Expected a function\");return setTimeout((function(){t.apply(void 0,n)}),1)}(t,0,e)},n=i(void 0===n?e.length-1:n,0),function(){for(var t=arguments,o=-1,r=i(t.length-n,0),a=Array(r);++o<r;)a[o]=t[n+o];o=-1;for(var s=Array(n+1);++o<n;)s[o]=t[o];return s[n]=a,function(t,e,n){switch(n.length){case 0:return t.call(e);case 1:return t.call(e,n[0]);case 2:return t.call(e,n[0],n[1]);case 3:return t.call(e,n[0],n[1],n[2])}return t.apply(e,n)}(e,this,s)});t.exports=o}},e={};function n(i){var o=e[i];if(void 0!==o)return o.exports;var r=e[i]={exports:{}};return t[i](r,r.exports,n),r.exports}n.n=t=>{var e=t&&t.__esModule?()=>t.default:()=>t;return n.d(e,{a:e}),e},n.d=(t,e)=>{for(var i in e)n.o(e,i)&&!n.o(t,i)&&Object.defineProperty(t,i,{enumerable:!0,get:e[i]})},n.g=function(){if(\"object\"==typeof globalThis)return globalThis;try{return this||new Function(\"return this\")()}catch(t){if(\"object\"==typeof window)return window}}(),n.o=(t,e)=>Object.prototype.hasOwnProperty.call(t,e),(()=>{\"use strict\";const t=t=>{const e=new Set;do{for(const n of Reflect.ownKeys(t))e.add([t,n])}while((t=Reflect.getPrototypeOf(t))&&t!==Object.prototype);return e};function e(e,{include:n,exclude:i}={}){const o=t=>{const e=e=>\"string\"==typeof e?t===e:e.test(t);return n?n.some(e):!i||!i.some(e)};for(const[n,i]of t(e.constructor.prototype)){if(\"constructor\"===i||!o(i))continue;const t=Reflect.getOwnPropertyDescriptor(n,i);t&&\"function\"==typeof t.value&&(e[i]=e[i].bind(e))}return e}var i=n(777),o=n.n(i),r=n(296),a=n.n(r);class s{constructor(t,n){e(this),this.interfaceId=t,this.callbackMap={},this.data={},this.pendingData={},this.jcomm=new c(\"guidance_interface_target_\"+this.interfaceId,this.updateData,\"open\"),this.debouncedSendPendingData500=a()(this.sendPendingData,500),this.debouncedSendPendingData1000=a()(this.sendPendingData,1e3),n&&o()(n)}send(t,e){this.addPendingData(t,e),this.sendPendingData()}sendEvent(t){for(const e of Object.keys(t))this.addPendingData(e,t[e]);this.sendPendingData()}debouncedSendEvent500(t){for(const e of Object.keys(t))this.addPendingData(e,t[e]);this.debouncedSendPendingData500()}debouncedSend500(t,e){this.addPendingData(t,e),this.debouncedSendPendingData500()}debouncedSend1000(t,e){this.addPendingData(t,e),this.debouncedSendPendingData1000()}addPendingData(t,e){Array.isArray(t)||(t=[t]);for(const n in t)this.pendingData[t[n]]=e}updateData(t){t=JSON.parse(t.data);for(const e in t)this.data[e]=t[e];for(const e in t)e in this.callbackMap&&this.callbackMap[e](this.data[e])}subscribe(t,e){this.callbackMap[t]=e,o()((e=>this.callbackMap[t](this.data[t])))}sendPendingData(){this.jcomm.send_data(this.pendingData),this.pendingData={}}}class c{constructor(t,e,n=\"open\"){this._fire_callback=this._fire_callback.bind(this),this._register=this._register.bind(this),this.jcomm=void 0,this.callback=e,void 0!==window.Jupyter?\"register\"===n?Jupyter.notebook.kernel.comm_manager.register_target(t,this._register):(this.jcomm=Jupyter.notebook.kernel.comm_manager.new_comm(t),this.jcomm.on_msg(this._fire_callback)):void 0!==window._mgr&&(\"register\"===n?window._mgr.widgetManager.proxyKernel.registerCommTarget(t,this._register):(this.jcomm=window._mgr.widgetManager.proxyKernel.createComm(t),this.jcomm.open({},\"\"),this.jcomm.onMsg=this._fire_callback))}send_data(t){void 0!==this.jcomm?this.jcomm.send(t):console.error(\"Jupyter comm module not yet loaded! So we can't send the message.\")}_register(t,e){this.jcomm=t,this.jcomm.on_msg(this._fire_callback)}_fire_callback(t){this.callback(t.content.data)}}class d{constructor(t,n){e(this),this.id=t,this.comm=new s(t),this.comm.subscribe(\"append\",this.appendData),this.comm.subscribe(\"replace\",this.replaceData),this.comm.subscribe(\"event\",this.eventOccurred),this.element=document.getElementById(\"guidance-content-\"+t),this.stop_button=document.getElementById(\"guidance-stop-button-\"+t),this.stop_button.onclick=()=>this.comm.send(\"event\",\"stop\")}appendData(t){t&&(this.stop_button.style.display=\"inline-block\",this.element.innerHTML+=t)}replaceData(t){t&&(this.stop_button.style.display=\"inline-block\",this.element.innerHTML=t)}eventOccurred(t){\"complete\"===t&&(this.stop_button.style.display=\"none\")}}window._guidanceDisplay=function(t,e){return new d(t,e)}})()})();; window._guidanceDisplay(\"0149e085-ab6b-495c-a69b-543377c098fa\");</script>"
      ]
     },
     "metadata": {},
     "output_type": "display_data"
    }
   ],
   "source": [
    "executed_program = program(conversation_question='What is the meaning of life?')"
   ]
  },
  {
   "cell_type": "code",
   "execution_count": null,
   "metadata": {},
   "outputs": [],
   "source": []
  }
 ],
 "metadata": {
  "kernelspec": {
   "display_name": "guidance",
   "language": "python",
   "name": "python3"
  },
  "language_info": {
   "codemirror_mode": {
    "name": "ipython",
    "version": 3
   },
   "file_extension": ".py",
   "mimetype": "text/x-python",
   "name": "python",
   "nbconvert_exporter": "python",
   "pygments_lexer": "ipython3",
   "version": "3.8.18"
  },
  "orig_nbformat": 4,
  "vscode": {
   "interpreter": {
    "hash": "fd8cabafb56980528edb83a46206c404687fdaed0bdad7c450ae020143ae38bc"
   }
  }
 },
 "nbformat": 4,
 "nbformat_minor": 2
}
